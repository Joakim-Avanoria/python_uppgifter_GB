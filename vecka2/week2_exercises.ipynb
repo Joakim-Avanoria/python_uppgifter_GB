{
 "cells": [
  {
   "cell_type": "markdown",
   "id": "787920d5",
   "metadata": {},
   "source": [
    "# Självstudieövningar - Vecka 2\n",
    "\n",
    "De här övningarna är till för att du ska repetera och befästa det vi har gått igenom under veckan samt introducera några nya begrepp på ett tryggt sätt.\n",
    "\n",
    "Det innebär att vissa av uppgifterna kan du behöva söka efter information själv hur du löser. Här kan du använda Google eller AI om du vill men Python-dokumentationen är din bästa vän när du lär dig.\n",
    "\n",
    "Länk: https://docs.python.org/3.13/\n",
    "\n",
    "Läs först igenom vad som ska göras i respektive uppgift och fyll sedan i kodblocket nedanför, eller gör uppgiften i en separat fil.\n",
    "\n",
    "**Detta lämnas inte in för rättning.** Arbeta i din egen takt, testa dig fram, använd dokumentationen när du kör fast och ta med eventuella frågor till nästa lektionstillfälle."
   ]
  },
  {
   "cell_type": "markdown",
   "id": "28510678",
   "metadata": {},
   "source": [
    "## Block A"
   ]
  },
  {
   "cell_type": "markdown",
   "id": "7deb3b10",
   "metadata": {},
   "source": [
    "### Uppgift 1 – Talserie\n",
    "Skriv ut talen 1–100 men hoppa över alla tal som är delbara med 4."
   ]
  },
  {
   "cell_type": "code",
   "execution_count": null,
   "id": "c1038a48",
   "metadata": {},
   "outputs": [],
   "source": [
    "for i in range(1, 101):\n",
    "    if i % 4 != 0:\n",
    "        print(i)"
   ]
  },
  {
   "cell_type": "markdown",
   "id": "56f6a91f",
   "metadata": {},
   "source": [
    "### Uppgift 2 – Strängmanipulation\n",
    "Läs in en mening och skriv ut den på tre sätt:\n",
    "- utan vokaler\n",
    "- utan konsonanter\n",
    "- med orden i omvänd ordning"
   ]
  },
  {
   "cell_type": "code",
   "execution_count": null,
   "id": "c2f81e88",
   "metadata": {},
   "outputs": [],
   "source": [
    "s = input(\"Mening: \")\n",
    "vokaler = \"aouåeiyäöAOUÅEIYÄÖ\"\n",
    "utan_vokaler = \"\".join(ch for ch in s if ch not in vokaler)\n",
    "utan_konsonanter = \"\".join(ch for ch in s if ch in vokaler or not ch.isalpha())\n",
    "reversed_order = \" \".join(s.split()[::-1])\n",
    "\n",
    "print(utan_vokaler)\n",
    "print(utan_konsonanter)\n",
    "print(reversed_order)"
   ]
  },
  {
   "cell_type": "markdown",
   "id": "7d8b0214",
   "metadata": {},
   "source": [
    "### Uppgift 3 – Lista med tal\n",
    "Låt användaren mata in en lista med tal (separerade med kommatecken, t.ex. `1,4,7,3`).\n",
    "Programmet ska sedan:\n",
    "- räkna ut summan\n",
    "- hitta minsta och största talet\n",
    "- räkna ut medelvärdet\n",
    "(Använd loopar, inte `min`, `max`, `sum`)."
   ]
  },
  {
   "cell_type": "code",
   "execution_count": null,
   "id": "49a853ad",
   "metadata": {},
   "outputs": [],
   "source": [
    "s = input(\"Skriv tal med kommatecken: \")\n",
    "nums = [int(x) for x in s.replace(\" \", \"\").split(\",\")]\n",
    "total = 0\n",
    "my_min, my_max = nums[0], nums[0]\n",
    "for n in nums:\n",
    "    total += n\n",
    "    if n < my_min: my_min = n\n",
    "    if n > my_max: my_max = n\n",
    "\n",
    "mean = total / len(nums)\n",
    "\n",
    "print(\"Summa: \", total)\n",
    "print(\"min: \", my_min)\n",
    "print(\"max: \", my_max)\n",
    "print(\"medel: \", mean)"
   ]
  },
  {
   "cell_type": "markdown",
   "id": "14e64976",
   "metadata": {},
   "source": [
    "### Uppgift 4 – Felsökning\n",
    "Koden nedan ska summera en lista men kraschar med `TypeError`."
   ]
  },
  {
   "cell_type": "code",
   "execution_count": null,
   "id": "1c3d0543",
   "metadata": {},
   "outputs": [],
   "source": [
    "nums = [1, 2, 3, 4]\n",
    "print(sum(nums))"
   ]
  },
  {
   "cell_type": "markdown",
   "id": "dedbd135",
   "metadata": {},
   "source": [
    "## Block B – Funktioner"
   ]
  },
  {
   "cell_type": "markdown",
   "id": "4352aa92",
   "metadata": {},
   "source": [
    "### Uppgift 5 – Primtal\n",
    "Skriv en funktion `is_prime(n)` som returnerar `True` om `n` är ett primtal, annars `False`."
   ]
  },
  {
   "cell_type": "code",
   "execution_count": null,
   "id": "c21ea28b",
   "metadata": {},
   "outputs": [],
   "source": [
    "def is_prime(n):\n",
    "    if n < 2:\n",
    "        return False\n",
    "    for i in range(2, int(n)):\n",
    "    # for i in range(2, int(n**0.5) + 1):\n",
    "        if n % i == 0:\n",
    "            return False\n",
    "    return True\n",
    "\n",
    "print(is_prime(2), is_prime(9), is_prime(11))"
   ]
  },
  {
   "cell_type": "markdown",
   "id": "65ab0020",
   "metadata": {},
   "source": [
    "### Uppgift 6 – Vokaler\n",
    "Skriv en funktion `count_vowels(s)` som returnerar antalet vokaler i en sträng."
   ]
  },
  {
   "cell_type": "code",
   "execution_count": null,
   "id": "0e12bab5",
   "metadata": {},
   "outputs": [],
   "source": [
    "def count_vowels(s):\n",
    "    vokaler = \"aouåeiyäöAOUÅEIYÄÖ\"\n",
    "    return sum(1 for ch in s if ch in vokaler)\n",
    "\n",
    "print(count_vowels(\"Hej på dig\"))"
   ]
  },
  {
   "cell_type": "markdown",
   "id": "b0fd6ddc",
   "metadata": {},
   "source": [
    "### Uppgift 7 – FizzBuzz som funktion\n",
    "Skriv om din gamla FizzBuzz-kod från vecka 1 till en funktion `fizzbuzz(n)` som returnerar en lista med resultaten."
   ]
  },
  {
   "cell_type": "code",
   "execution_count": null,
   "id": "4ed3c0d9",
   "metadata": {},
   "outputs": [],
   "source": [
    "def fizzbuzz(n):\n",
    "    result = []\n",
    "    for i in range(1, n + 1):\n",
    "        if i % 15 == 0:\n",
    "            result.append(\"FizzBuzz\")\n",
    "        elif i % 3 == 0:\n",
    "            result.append(\"Fizz\")\n",
    "        elif i % 5 == 0:\n",
    "            result.append(\"Buzz\")\n",
    "        else:\n",
    "            result.append(i)\n",
    "    return result\n",
    "\n",
    "\n",
    "print(fizzbuzz(16))"
   ]
  },
  {
   "cell_type": "markdown",
   "id": "23032f51",
   "metadata": {},
   "source": [
    "### Uppgift 8 – Miniräknare\n",
    "Skriv ett program där varje räknesätt är en funktion: `add(a,b)`, `sub(a,b)`, `mul(a,b)`, `div(a,b)`.\n",
    "Programmet ska visa en meny där användaren väljer operation och matar in två tal."
   ]
  },
  {
   "cell_type": "code",
   "execution_count": null,
   "id": "405a2038",
   "metadata": {},
   "outputs": [],
   "source": [
    "def add(a, b): return a + b\n",
    "def sub(a, b): return a - b\n",
    "def mul(a, b): return a * b\n",
    "def div(a, b): return a / b if b != 0 else None\n",
    "\n",
    "while True:\n",
    "    print(\"1: add\")\n",
    "    print(\"2: sub\")\n",
    "    print(\"3: mul\")\n",
    "    print(\"4: div\")\n",
    "    print(\"0: sluta\")\n",
    "\n",
    "    val = input(\"> \")\n",
    "    if val == \"0\": break\n",
    "    a = float(input(\"a: \"))\n",
    "    b = float(input(\"b: \"))\n",
    "\n",
    "    if val == \"1\": print(add(a, b))\n",
    "    elif val == \"2\": print(sub(a, b))\n",
    "    elif val == \"3\": print(mul(a, b))\n",
    "    elif val == \"4\": print(div(a, b))"
   ]
  },
  {
   "cell_type": "markdown",
   "id": "1577ba01",
   "metadata": {},
   "source": [
    "### Uppgift 9 – Felsökning\n",
    "Koden nedan ska addera två tal men ger `None`. Rätta till det."
   ]
  },
  {
   "cell_type": "code",
   "execution_count": null,
   "id": "bf695f15",
   "metadata": {},
   "outputs": [],
   "source": [
    "def add(a, b):\n",
    "    c = a + b\n",
    "    return c\n",
    "\n",
    "resultat = add(2, 3)\n",
    "print(resultat)"
   ]
  },
  {
   "cell_type": "markdown",
   "id": "1d6d138e",
   "metadata": {},
   "source": [
    "## Block C – Dictionaries"
   ]
  },
  {
   "cell_type": "markdown",
   "id": "f2bc75a2",
   "metadata": {},
   "source": [
    "### Uppgift 10 – Åldrar\n",
    "Skapa en dictionary med tre personer och deras ålder. Lägg till en fjärde. Fråga användaren om ett namn och slå upp åldern. Om personen inte finns, skriv \"Ej hittad\"."
   ]
  },
  {
   "cell_type": "code",
   "execution_count": null,
   "id": "de26df35",
   "metadata": {},
   "outputs": [],
   "source": [
    "ages = {\"Joakim\": 38, \"Hans\": 40, \"Emil\": 29}\n",
    "ages[\"Tommy\"] = 45\n",
    "name = input(\"Namn: \")\n",
    "if name in ages:\n",
    "    print(ages[name])\n",
    "else:\n",
    "    print(\"Ej hittad\")"
   ]
  },
  {
   "cell_type": "markdown",
   "id": "f1ebe1a7",
   "metadata": {},
   "source": [
    "### Uppgift 11 – Ordräknare\n",
    "Be användaren skriva en mening. Räkna hur många gånger varje ord förekommer och spara i en dictionary."
   ]
  },
  {
   "cell_type": "code",
   "execution_count": null,
   "id": "6950a31b",
   "metadata": {},
   "outputs": [],
   "source": [
    "s = input(\"Mening: \").lower().replace(\",\", \"\").replace(\".\", \"\")\n",
    "words = s.split()\n",
    "counts = {}\n",
    "for word in words:\n",
    "    counts[word] = counts.get(word, 0) + 1\n",
    "print(counts)"
   ]
  },
  {
   "cell_type": "markdown",
   "id": "d506caa0",
   "metadata": {},
   "source": [
    "### Uppgift 12 – Telefonbok\n",
    "Skriv ett menyprogram där användaren kan:\n",
    "- lägga till en kontakt (namn + nummer)\n",
    "- söka efter ett namn\n",
    "- visa alla kontakter\n",
    "- ta bort en kontakt\n",
    "- avsluta programmet\n",
    "\n",
    "Kontakterna sparas i en dictionary `{namn: nummer}`."
   ]
  },
  {
   "cell_type": "code",
   "execution_count": null,
   "id": "028e1446",
   "metadata": {},
   "outputs": [],
   "source": []
  },
  {
   "cell_type": "markdown",
   "id": "e6d49f40",
   "metadata": {},
   "source": [
    "### Uppgift 13 – Felsökning\n",
    "Koden nedan försöker slå upp en nyckel som inte finns och kraschar (`KeyError`). Rätta den så att programmet hanterar fallet."
   ]
  },
  {
   "cell_type": "code",
   "execution_count": null,
   "id": "9ee27849",
   "metadata": {},
   "outputs": [],
   "source": [
    "ages = {\"Ada\": 30, \"Bob\": 25}\n",
    "name = \"Ada\"\n",
    "if name in ages:\n",
    "    print(f\"{name}s ålder är:\", ages[name])\n",
    "else:\n",
    "    print(\"Ej hittad\")"
   ]
  },
  {
   "cell_type": "markdown",
   "id": "d93b4a46",
   "metadata": {},
   "source": [
    "## Block D – Moduler & reproducera körning"
   ]
  },
  {
   "cell_type": "markdown",
   "id": "47e1e67f",
   "metadata": {},
   "source": [
    "### Uppgift 14 – Egna moduler\n",
    "Skapa en fil `utils.py` och lägg i funktionerna `is_even(n)` och `sum_list(lst)`. Importera modulen i din notebook och använd funktionerna."
   ]
  },
  {
   "cell_type": "code",
   "execution_count": null,
   "id": "3daf18d5",
   "metadata": {},
   "outputs": [],
   "source": [
    "# from utils import is_even, sum_list"
   ]
  },
  {
   "cell_type": "markdown",
   "id": "13198f2d",
   "metadata": {},
   "source": [
    "### Uppgift 15 – Reproducerbar slump\n",
    "Skriv ett program som genererar 5 slumpmässiga tal mellan 1–100. Använd `random.seed(42)` så att samma tal genereras varje gång."
   ]
  },
  {
   "cell_type": "code",
   "execution_count": null,
   "id": "2bd1456b",
   "metadata": {},
   "outputs": [],
   "source": [
    "import random\n",
    "random.seed(42)\n",
    "\n",
    "nums = [random.randint(1,100) for _ in range(5)]\n",
    "\n",
    "print(nums)"
   ]
  },
  {
   "cell_type": "markdown",
   "id": "434b57c5",
   "metadata": {},
   "source": [
    "### Uppgift 16 – Paket och flera filer\n",
    "Bygg ett litet paket i en mapp som heter `calc_pkg/` och använd det från en huvudfil.\n",
    "\n",
    "#### Struktur:\n",
    "* calc_pkg/\n",
    "    * \\__init__.py\n",
    "    * ops.py\n",
    "    * formatting.py\n",
    "* main.py\n",
    "\n",
    "#### Krav:\n",
    "* `ops.py` ska innehålla funktionerna `add(a, b)`, `sub(a, b)`, `mul(a, b)`, `div(a, b)` (hantera division med noll).\n",
    "* `formatting.py` ska innehålla en funktion `pretty(op, a, b, result)` som returnerar en sträng, t.ex. `\"3 * 7 = 21\"` (op = +, -, *, / eller //).\n",
    "* main.py ska:\n",
    "    * importera från paketet (ex: `from calc_pkg import add, sub, mul, div, pretty`),\n",
    "    * visa en meny där användaren väljer räknesätt och matar två tal,\n",
    "    * skriva ut resultatet med `pretty(...)`.\n",
    "\n",
    "#### Tips:\n",
    "* Kör `main.py` från samma nivå som mappen `calc_pkg/`.\n",
    "* Om importen strular: kontrollera fil-/mappnamn och att `__init__.py` finns."
   ]
  },
  {
   "cell_type": "code",
   "execution_count": null,
   "id": "13f18eb9",
   "metadata": {},
   "outputs": [],
   "source": []
  },
  {
   "cell_type": "markdown",
   "id": "bc3245d2",
   "metadata": {},
   "source": [
    "## Block E – Större projekt"
   ]
  },
  {
   "cell_type": "markdown",
   "id": "8f95011b",
   "metadata": {},
   "source": [
    "### Projekt 1 – Textanalysator\n",
    "Be användaren skriva in en längre text. Programmet ska analysera:\n",
    "- antal ord\n",
    "- antal unika ord\n",
    "- antal vokaler\n",
    "- längsta ordet\n",
    "Resultatet sparas i en dictionary och skrivs ut."
   ]
  },
  {
   "cell_type": "code",
   "execution_count": null,
   "id": "febec7cb",
   "metadata": {},
   "outputs": [],
   "source": []
  },
  {
   "cell_type": "markdown",
   "id": "d93820ce",
   "metadata": {},
   "source": [
    "### Projekt 2 – Sten-Sax-Påse: Turnering\n",
    "Skapa ett program där man kan köra en turnering **Sten-Sax-Påse** mot datorn.\n",
    "\n",
    "#### Krav:\n",
    "* Representera valen som strängar: `\"sten\"`, `\"sax\"`, `\"påse\"`.\n",
    "* Skriv en funktion `winner(p1, p2)` som returnerar `\"p1\"`, `\"p2\"` eller `\"oavgjort\"` enligt reglerna:\n",
    "    * sten slår sax, sax slår påse, påse slår sten.\n",
    "* Låt användaren spela flera rundor mot datorn tills man väljer att avsluta, eller gör färdiga \"Bäst av 3/5/7\"-lägen.\n",
    "* Visa enkel poängställning med en dictionary, t.ex. {\"spelare\": 0, \"dator\": 0, \"oavgjort\": 0}.\n",
    "\n",
    "#### Tips:\n",
    "* Använd en dict för att definiera vilka drag som slår vilka, t.ex. `beats = {\"sten\": \"sax\", \"sax\": \"påse\", \"påse\": \"sten\"}`.\n",
    "* Håll all input och utskrift i huvudflödet; låt funktionsdelarna vara “rena” och bara räkna ut svar."
   ]
  },
  {
   "cell_type": "code",
   "execution_count": null,
   "id": "6b98b10c",
   "metadata": {},
   "outputs": [],
   "source": []
  },
  {
   "cell_type": "markdown",
   "id": "bd13ac9a",
   "metadata": {},
   "source": [
    "### Projekt 3 – Hangman (ordgissning)\n",
    "Programmet väljer ett ord. Användaren gissar bokstäver tills ordet är löst eller försöken tar slut. Visa progress, t.ex. `py_h_n`."
   ]
  },
  {
   "cell_type": "code",
   "execution_count": null,
   "id": "1bd90da8",
   "metadata": {},
   "outputs": [],
   "source": [
    "import random\n",
    "words = [\"python\", \"dator\", \"program\", \"statistik\"]\n",
    "secret = random.choice(words)\n",
    "\n",
    "guessed = set()\n",
    "tries = 6\n",
    "\n",
    "while tries > 0:\n",
    "    out = \"\".join(ch if ch in guessed else \"_\" for ch in secret)\n",
    "    print(out)\n",
    "\n",
    "    if out == secret:\n",
    "        print(\"Du vann!\")\n",
    "        break\n",
    "    ch = input(\"Bokstav: \")\n",
    "    if not ch:\n",
    "        continue\n",
    "    ch = ch[0]\n",
    "    if ch in secret:\n",
    "        guessed.add(ch)\n",
    "    else:\n",
    "        tries -= 1\n",
    "        print(f\"Fel! {tries} försök kvar\")\n",
    "else:\n",
    "    print(\"Du förlorade. Ordet var\", secret)\n"
   ]
  }
 ],
 "metadata": {
  "kernelspec": {
   "display_name": ".venv",
   "language": "python",
   "name": "python3"
  },
  "language_info": {
   "codemirror_mode": {
    "name": "ipython",
    "version": 3
   },
   "file_extension": ".py",
   "mimetype": "text/x-python",
   "name": "python",
   "nbconvert_exporter": "python",
   "pygments_lexer": "ipython3",
   "version": "3.13.7"
  }
 },
 "nbformat": 4,
 "nbformat_minor": 5
}
