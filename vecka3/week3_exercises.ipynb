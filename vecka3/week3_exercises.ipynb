{
 "cells": [
  {
   "cell_type": "markdown",
   "id": "2050efe0",
   "metadata": {},
   "source": [
    "# Självstudieövningar – Vecka 3\n",
    "\n",
    "De här övningarna är till för att du ska repetera och befästa det vi har gått igenom under veckan samt introducera några nya begrepp på ett tryggt sätt.\n",
    "\n",
    "Det innebär att vissa av uppgifterna kan du behöva söka efter information själv hur du löser. Här kan du använda Google eller AI om du vill men Python-dokumentationen är din bästa vän när du lär dig.\n",
    "\n",
    "Länk: https://docs.python.org/3.13/\n",
    "\n",
    "Läs först igenom vad som ska göras i respektive uppgift och fyll sedan i kodblocket nedanför, eller gör uppgiften i en separat fil.\n",
    "\n",
    "**Detta lämnas inte in för rättning.** Arbeta i din egen takt, testa dig fram, använd dokumentationen när du kör fast och ta med eventuella frågor till nästa lektionstillfälle."
   ]
  },
  {
   "cell_type": "markdown",
   "id": "1d545641",
   "metadata": {},
   "source": [
    "## Block A"
   ]
  },
  {
   "cell_type": "markdown",
   "id": "79fd4e0d",
   "metadata": {},
   "source": [
    "### Uppgift 1 – Tuple-grunder\n",
    "Skapa en tuple `t = (3, 7, 11, 7)` och:\n",
    "- skriv ut första och sista elementet,\n",
    "- räkna hur många gånger `7` förekommer,\n",
    "- ta fram index för första `7` med `.index()`."
   ]
  },
  {
   "cell_type": "code",
   "execution_count": 3,
   "id": "f88703f7",
   "metadata": {},
   "outputs": [
    {
     "name": "stdout",
     "output_type": "stream",
     "text": [
      "3 7\n",
      "antal 7or: 2\n",
      "index första 7: 1\n"
     ]
    }
   ],
   "source": [
    "t = (3, 7, 11, 7)\n",
    "print(t[0], t[-1])\n",
    "print(\"antal 7or:\", t.count(7))\n",
    "print(\"index första 7:\", t.index(7))"
   ]
  },
  {
   "cell_type": "markdown",
   "id": "8e2f9799",
   "metadata": {},
   "source": [
    "### Uppgift 2 – Unpacking & swap\n",
    "Givet `p = (\"Ada\", \"Lovelace\", 36)` plocka ut `first, last, age` via **unpacking** och skriv en mening med f-string.\n",
    "Byt sedan plats på `first` och `last` i **en rad** (tuple-swap) och skriv ut igen."
   ]
  },
  {
   "cell_type": "code",
   "execution_count": 5,
   "id": "532b664e",
   "metadata": {},
   "outputs": [
    {
     "name": "stdout",
     "output_type": "stream",
     "text": [
      "Hej Ada Lovelace, du är 36 år\n",
      "Hej Lovelace Ada, du är 36 år\n"
     ]
    }
   ],
   "source": [
    "p = (\"Ada\", \"Lovelace\", 36)\n",
    "first, last, age = p\n",
    "print(f\"Hej {first} {last}, du är {age} år\")\n",
    "first, last = last, first\n",
    "print(f\"Hej {first} {last}, du är {age} år\")"
   ]
  },
  {
   "cell_type": "markdown",
   "id": "e7892f16",
   "metadata": {},
   "source": [
    "### Uppgift 3 – Oföränderlighet\n",
    "Förklara i en kommentar varför `t[0] = 99` ger fel. Visa hur du kan skapa **en ny** tuple där första värdet är ändrat."
   ]
  },
  {
   "cell_type": "code",
   "execution_count": 6,
   "id": "03a74747",
   "metadata": {},
   "outputs": [
    {
     "name": "stdout",
     "output_type": "stream",
     "text": [
      "(99, 7, 11, 7)\n"
     ]
    }
   ],
   "source": [
    "t = (3, 7, 11, 7)\n",
    "t2 = (99,) + t[1:]\n",
    "print(t2)"
   ]
  },
  {
   "cell_type": "markdown",
   "id": "ffb194a1",
   "metadata": {},
   "source": [
    "### Uppgift 4 – Konvertering\n",
    "Givet `nums_list = [2, 4, 6, 8]`:\n",
    "- gör om den till tuple,\n",
    "- lägg till talet `10` (genom att skapa en **ny** tuple),\n",
    "- gör om tillbaka till lista."
   ]
  },
  {
   "cell_type": "code",
   "execution_count": 8,
   "id": "4e76cec5",
   "metadata": {},
   "outputs": [
    {
     "name": "stdout",
     "output_type": "stream",
     "text": [
      "(2, 4, 6, 8, 10)\n",
      "[2, 4, 6, 8, 10]\n"
     ]
    }
   ],
   "source": [
    "nums_list = [2, 4, 6, 8]\n",
    "nums = tuple(nums_list)\n",
    "nums = nums + (10,)\n",
    "nums_list2 = list(nums)\n",
    "\n",
    "print(nums)\n",
    "print(nums_list2)"
   ]
  },
  {
   "cell_type": "markdown",
   "id": "e928d47f",
   "metadata": {},
   "source": [
    "### Uppgift 5 – Felsökning (tuple)\n",
    "Kör och **rätta** så att det fungerar:"
   ]
  },
  {
   "cell_type": "code",
   "execution_count": 9,
   "id": "d63ca48f",
   "metadata": {},
   "outputs": [
    {
     "name": "stdout",
     "output_type": "stream",
     "text": [
      "(1, 2, 3, 4)\n"
     ]
    }
   ],
   "source": [
    "data = (1, 2, 3)\n",
    "data = data + (4,)\n",
    "print(data)"
   ]
  },
  {
   "cell_type": "markdown",
   "id": "f4e8830e",
   "metadata": {},
   "source": [
    "### Uppgift 6 – Sensor-sammanställning\n",
    "Anta att du får mätningar som en lista av tuples:\n",
    "`measurements = [(\"2025-10-13 10:00\", 21.5), (\"2025-10-13 10:05\", 21.7), ...]`\n",
    "Skriv kod som:\n",
    "- räknar antalet mätningar,\n",
    "- tar fram min, max och medelvärde för temperaturen,\n",
    "- skriver ut tidsstämpeln för max-värdet."
   ]
  },
  {
   "cell_type": "code",
   "execution_count": 11,
   "id": "56e2d8e3",
   "metadata": {},
   "outputs": [
    {
     "name": "stdout",
     "output_type": "stream",
     "text": [
      "Antal mätningar: 3\n",
      "Min: 21.3\n",
      "Max: 21.7\n",
      "Medel: 21.5\n",
      "Timestamp för max: 2025-10-13 10:05\n"
     ]
    }
   ],
   "source": [
    "measurements = [(\"2025-10-13 10:00\", 21.5), (\"2025-10-13 10:05\", 21.7), (\"2025-10-13 10:10\", 21.3)]\n",
    "\n",
    "n = len(measurements)\n",
    "total = 0\n",
    "\n",
    "min = (measurements[0])\n",
    "max = (measurements[0])\n",
    "\n",
    "for ts, temp in measurements:\n",
    "    total += temp\n",
    "    if temp < min[1]:\n",
    "        min = (ts, temp)\n",
    "    if temp > max[1]:\n",
    "        max = (ts, temp)\n",
    "\n",
    "mean = total / n\n",
    "\n",
    "print(\"Antal mätningar:\", n)\n",
    "print(\"Min:\", min[1])\n",
    "print(\"Max:\", max[1])\n",
    "print(\"Medel:\", mean)\n",
    "print(\"Timestamp för max:\", max[0])"
   ]
  },
  {
   "cell_type": "markdown",
   "id": "6e4ed96c",
   "metadata": {},
   "source": [
    "## Block B – Filer: läsa & skriva (text)"
   ]
  },
  {
   "cell_type": "markdown",
   "id": "58a45e68",
   "metadata": {},
   "source": [
    "> Använd **relativa sökvägar** och `with open(..., encoding=\"utf-8\") as f:`."
   ]
  },
  {
   "cell_type": "markdown",
   "id": "8001e4a3",
   "metadata": {},
   "source": [
    "### Uppgift 7 – Läs en fil\n",
    "Läs in en textfil (t.ex. `novell.txt`) och skriv ut:\n",
    "- antal rader,\n",
    "- totalt antal tecken,\n",
    "- antal icke-tomma rader (ignorera rader som bara är whitespace)."
   ]
  },
  {
   "cell_type": "code",
   "execution_count": 12,
   "id": "be6169c0",
   "metadata": {},
   "outputs": [
    {
     "name": "stdout",
     "output_type": "stream",
     "text": [
      "Rader: 37\n",
      "Tecken: 3655\n",
      "Icke tomma: 33\n"
     ]
    }
   ],
   "source": [
    "path = \"novell.txt\"\n",
    "lines = []\n",
    "with open(path, \"r\", encoding=\"utf-8\") as f:\n",
    "    for line in f:\n",
    "        lines.append(line)\n",
    "\n",
    "n_lines = len(lines)\n",
    "tot_chars = sum(len(line) for line in lines)\n",
    "ne_lines = sum(1 for line in lines if line.strip() != \"\")\n",
    "\n",
    "print(\"Rader:\", n_lines)\n",
    "print(\"Tecken:\", tot_chars)\n",
    "print(\"Icke tomma:\", ne_lines)"
   ]
  },
  {
   "cell_type": "markdown",
   "id": "8507acfc",
   "metadata": {},
   "source": [
    "### Uppgift 8 – Filtrera och spara\n",
    "Läs en fil rad för rad och skriv **endast de rader** som **inte** är tomma till en ny fil `utan_tomrader.txt`. Bekräfta genom att läsa tillbaka och skriva ut antal rader."
   ]
  },
  {
   "cell_type": "code",
   "execution_count": 13,
   "id": "8e4a6e2a",
   "metadata": {},
   "outputs": [
    {
     "name": "stdout",
     "output_type": "stream",
     "text": [
      "Antal rader: 33\n"
     ]
    }
   ],
   "source": [
    "src = \"novell.txt\"\n",
    "dest = \"utan_tomrader.txt\"\n",
    "\n",
    "with open(src, \"r\", encoding=\"utf-8\") as f_in, open(dest, \"w\", encoding=\"utf-8\") as f_out:\n",
    "    for line in f_in:\n",
    "        if line.strip() != \"\":\n",
    "            f_out.write(line)\n",
    "\n",
    "with open(dest, \"r\", encoding=\"utf-8\") as f:\n",
    "    print(\"Antal rader:\", sum(1 for _ in f))"
   ]
  },
  {
   "cell_type": "markdown",
   "id": "c5bcab82",
   "metadata": {},
   "source": [
    "### Uppgift 9 – Append-logg\n",
    "Skapa/öppna en fil `logg.txt` i **append-läge** och lägg till en rad `Startad` och en rad `Klar` med valfri tidsstämpel (du kan hårdkoda)."
   ]
  },
  {
   "cell_type": "code",
   "execution_count": 16,
   "id": "bff653bc",
   "metadata": {},
   "outputs": [],
   "source": [
    "with open(\"logg.txt\", \"a\", encoding=\"utf-8\") as f:\n",
    "    f.write(\"Startad: (2025-10-21 13:24)\\n\")\n",
    "    f.write(\"Klar: (2025-10-21 13:25)\\n\")"
   ]
  },
  {
   "cell_type": "markdown",
   "id": "4dc3c209",
   "metadata": {},
   "source": [
    "### Uppgift 10 – Felsökning (fil)"
   ]
  },
  {
   "cell_type": "code",
   "execution_count": null,
   "id": "646dfc93",
   "metadata": {},
   "outputs": [
    {
     "name": "stdout",
     "output_type": "stream",
     "text": [
      "Startad: (2025-10-21 13:24)\n",
      "Klar: (2025-10-21 13:25)\n"
     ]
    }
   ],
   "source": [
    "with open(\"logg.txt\", \"r\", encoding=\"utf-8\") as f:\n",
    "    text = f.read()\n",
    "print(text)\n",
    "\n",
    "# Mål: Läs innehåll på ett korrekt sätt."
   ]
  },
  {
   "cell_type": "markdown",
   "id": "2319dc62",
   "metadata": {},
   "source": [
    "### Uppgift 11 – Logg-parser\n",
    "Anta en fil `events.txt` där varje rad är t.ex. `INFO: Start`, `ERROR: Disk full`, `WARN: Low battery`.\n",
    "Skriv program som:\n",
    "- räknar hur många `INFO`, `WARN`, `ERROR`,\n",
    "- skriver en **sammanfattning** till `summary.txt`, t.ex.\n",
    "```\n",
    "INFO:  12\n",
    "WARN:   3\n",
    "ERROR:  1\n",
    "```"
   ]
  },
  {
   "cell_type": "code",
   "execution_count": 18,
   "id": "33df2068",
   "metadata": {},
   "outputs": [],
   "source": [
    "src = \"events.txt\"\n",
    "\n",
    "counts = { \"INFO\": 0, \"WARN\": 0, \"ERROR\": 0 }\n",
    "\n",
    "with open(src, \"r\", encoding=\"utf-8\") as f:\n",
    "    for line in f:\n",
    "        line = line.strip()\n",
    "        if line.startswith(\"INFO:\"):\n",
    "            counts[\"INFO\"] += 1\n",
    "        elif line.startswith(\"WARN:\"):\n",
    "            counts[\"WARN\"] += 1\n",
    "        elif line.startswith(\"ERROR:\"):\n",
    "            counts[\"ERROR\"] += 1\n",
    "\n",
    "with open(\"summary.txt\", \"w\", encoding=\"utf-8\") as f_out:\n",
    "    f_out.write(f\"INFO:    {counts[\"INFO\"]}\\n\")\n",
    "    f_out.write(f\"WARN:    {counts[\"WARN\"]}\\n\")\n",
    "    f_out.write(f\"ERROR:   {counts[\"ERROR\"]}\\n\")"
   ]
  },
  {
   "cell_type": "markdown",
   "id": "b169650f",
   "metadata": {},
   "source": [
    "## Block C – CSV & JSON"
   ]
  },
  {
   "cell_type": "markdown",
   "id": "6aeada03",
   "metadata": {},
   "source": [
    "### Uppgift 12 – CSV: grundläsning\n",
    "Skapa en liten CSV-fil `people.csv` (3–5 rader) med kolumnerna `name,age`. Läs den med `csv.reader` och skriv ut varje rad snyggt formaterad."
   ]
  },
  {
   "cell_type": "code",
   "execution_count": 22,
   "id": "d881ce50",
   "metadata": {},
   "outputs": [
    {
     "name": "stdout",
     "output_type": "stream",
     "text": [
      "name | age\n",
      "Alice | 30\n",
      "Bob | 25\n",
      "Charlie | 35\n"
     ]
    }
   ],
   "source": [
    "import csv\n",
    "\n",
    "with open(\"people.csv\", \"r\", newline=\"\", encoding=\"utf-8\") as f:\n",
    "    reader = csv.reader(f)\n",
    "    for row in reader:\n",
    "        print(\" | \".join(row))"
   ]
  },
  {
   "cell_type": "markdown",
   "id": "ca6dcf3d",
   "metadata": {},
   "source": [
    "### Uppgift 13 – CSV: kolumnmedel\n",
    "Läs `people.csv` med `csv.DictReader` och räkna fram **medelålder** (avrunda till 1 decimal). Skriv ut namnet på den **äldsta** personen."
   ]
  },
  {
   "cell_type": "code",
   "execution_count": 29,
   "id": "8f7fdb85",
   "metadata": {},
   "outputs": [
    {
     "name": "stdout",
     "output_type": "stream",
     "text": [
      "{'name': 'Alice', 'age': '30'}\n",
      "{'name': 'Bob', 'age': '25'}\n",
      "{'name': 'Charlie', 'age': '35'}\n",
      "Medelålder: 30.0\n",
      "Äldst:  Charlie\n"
     ]
    }
   ],
   "source": [
    "ages = []\n",
    "oldest = None\n",
    "with open(\"people.csv\", \"r\", newline=\"\", encoding=\"utf-8\") as f:\n",
    "    r = csv.DictReader(f)\n",
    "    for row in r:\n",
    "        print(row)\n",
    "        age = int(row[\"age\"])\n",
    "        ages.append(age)\n",
    "        if (oldest is None) or (age > int(oldest[\"age\"])):\n",
    "            oldest = row\n",
    "\n",
    "mean_age = round(sum(ages) / len(ages), 1) if ages else 0\n",
    "print(\"Medelålder:\", mean_age)\n",
    "if oldest:\n",
    "    print(\"Äldst: \", oldest[\"name\"])"
   ]
  },
  {
   "cell_type": "markdown",
   "id": "88783dce",
   "metadata": {},
   "source": [
    "### Uppgift 14 – CSV: filtrera och spara\n",
    "Skapa en ny CSV `adults.csv` med bara rader där `age >= 18`. Använd `csv.DictWriter`."
   ]
  },
  {
   "cell_type": "code",
   "execution_count": 33,
   "id": "8e6c9e50",
   "metadata": {},
   "outputs": [],
   "source": [
    "src = \"people.csv\"\n",
    "dest = \"adults.csv\"\n",
    "\n",
    "with open(src, \"r\", newline=\"\", encoding=\"utf-8\") as f, open(dest, \"w\", newline=\"\", encoding=\"utf-8\") as f_out:\n",
    "    reader = csv.DictReader(f)\n",
    "    writer = csv.DictWriter(f_out, reader.fieldnames)\n",
    "    writer.writeheader()\n",
    "    for row in reader:\n",
    "        age = int(row[\"age\"])\n",
    "        if age >= 18:\n",
    "            writer.writerow(row)"
   ]
  },
  {
   "cell_type": "markdown",
   "id": "ad11b7ca",
   "metadata": {},
   "source": [
    "### Uppgift 15 – JSON: spara & läsa\n",
    "Skapa en Python-struktur (lista/dict) med några personer och favoritfärger.\n",
    "- Spara till `colors.json` med `json.dump`.\n",
    "- Läs tillbaka med `json.load` och skriv ut alla namn som har färgen `\"blå\"`."
   ]
  },
  {
   "cell_type": "code",
   "execution_count": 35,
   "id": "2f65711f",
   "metadata": {},
   "outputs": [
    {
     "name": "stdout",
     "output_type": "stream",
     "text": [
      "Hans\n"
     ]
    }
   ],
   "source": [
    "import json\n",
    "\n",
    "data = [\n",
    "    { \"name\": \"Joakim\", \"color\": \"green\" },\n",
    "    { \"name\": \"Hans\", \"color\": \"blå\" },\n",
    "    { \"name\": \"Emil\", \"color\": \"rosa\" },\n",
    "]\n",
    "\n",
    "with open(\"colors.json\", \"w\", encoding=\"utf-8\") as f:\n",
    "    json.dump(data, f, ensure_ascii=False)\n",
    "\n",
    "with open(\"colors.json\", \"r\", encoding=\"utf-8\") as f:\n",
    "    colors = json.load(f)\n",
    "\n",
    "for person in colors:\n",
    "    if person[\"color\"] == \"blå\":\n",
    "        print(person[\"name\"])"
   ]
  },
  {
   "cell_type": "markdown",
   "id": "9aaa6d53",
   "metadata": {},
   "source": [
    "### Uppgift 16 – Felsökning (JSON)\n",
    "Kör och **rätta**:"
   ]
  },
  {
   "cell_type": "code",
   "execution_count": 36,
   "id": "101ee434",
   "metadata": {},
   "outputs": [
    {
     "name": "stdout",
     "output_type": "stream",
     "text": [
      "[{'name': 'Joakim', 'color': 'green'}, {'name': 'Hans', 'color': 'blå'}, {'name': 'Emil', 'color': 'rosa'}]\n"
     ]
    }
   ],
   "source": [
    "import json\n",
    "with open(\"colors.json\", \"r\", encoding=\"utf-8\") as f:\n",
    "    data = json.load(f)\n",
    "print(data)\n",
    "\n",
    "# Mål: Använd rätt funktion för filobjekt."
   ]
  },
  {
   "cell_type": "markdown",
   "id": "846c6908",
   "metadata": {},
   "source": [
    "### Uppgift 17 – Budget-sammanställning (CSV→JSON)\n",
    "Skapa en CSV `transactions.csv` med kolumner `date,category,amount` (positivt för intäkt, negativt för kostnad).\n",
    "Skriv kod som:\n",
    "- läser transaktionerna,\n",
    "- summerar **belopp per kategori** i en dictionary,\n",
    "- skriver ut en **lista** med `{ \"category\": \"...\", \"total\": ... }` sorterad fallande på `total`,\n",
    "- sparar listan till `budget_summary.json`."
   ]
  },
  {
   "cell_type": "code",
   "execution_count": null,
   "id": "22dab725",
   "metadata": {},
   "outputs": [],
   "source": []
  },
  {
   "cell_type": "markdown",
   "id": "3387051a",
   "metadata": {},
   "source": [
    "## Block D – OOP (Klasser, läsbarhet, inkapsling, sammansättning, arv)"
   ]
  },
  {
   "cell_type": "markdown",
   "id": "85b5e49a",
   "metadata": {},
   "source": [
    "### Uppgift 18 – Klass: Student\n",
    "Skapa en klass `Student` med `name` och `age`.\n",
    "- Implementera `__init__` och `__str__` (läsbar utskrift).\n",
    "- Skapa 2–3 objekt och skriv ut dem."
   ]
  },
  {
   "cell_type": "code",
   "execution_count": 37,
   "id": "b728968f",
   "metadata": {},
   "outputs": [
    {
     "name": "stdout",
     "output_type": "stream",
     "text": [
      "Student(name=Joakim, age=38)\n",
      "Student(name=Bob, age=18)\n"
     ]
    }
   ],
   "source": [
    "class Student:\n",
    "    def __init__(self, name, age):\n",
    "        self.name = name\n",
    "        self.age = age\n",
    "    def __str__(self):\n",
    "        return f\"Student(name={self.name}, age={self.age})\"\n",
    "    \n",
    "s1 = Student(\"Joakim\", 38)\n",
    "s2 = Student(\"Bob\", 18)\n",
    "print(s1)\n",
    "print(s2)"
   ]
  },
  {
   "cell_type": "markdown",
   "id": "5ec6ac99",
   "metadata": {},
   "source": [
    "### Uppgift 19 – Metoder & enkel inkapsling\n",
    "Utöka `Student` med en **lista** `courses` som startar tom.\n",
    "- Metod `add_course(course_name)` lägger till en kurs,\n",
    "- Metod `count_courses()` returnerar antal.\n",
    "- Skydda internlistan genom att exponera en **kopierad** lista i metoden `get_courses()` (inte direkt attributet)."
   ]
  },
  {
   "cell_type": "code",
   "execution_count": 38,
   "id": "bc916cde",
   "metadata": {},
   "outputs": [
    {
     "name": "stdout",
     "output_type": "stream",
     "text": [
      "2 ['Python', 'OOP']\n"
     ]
    }
   ],
   "source": [
    "class Student:\n",
    "    def __init__(self, name, age):\n",
    "        self.name = name\n",
    "        self.age = age\n",
    "        self._courses = []\n",
    "    \n",
    "    def add_course(self, course_name):\n",
    "        self._courses.append(course_name)\n",
    "    \n",
    "    def count_courses(self):\n",
    "        return len(self._courses)\n",
    "    \n",
    "    def get_courses(self):\n",
    "        return list(self._courses)\n",
    "\n",
    "    def __str__(self):\n",
    "        return f\"Student(name={self.name}, age={self.age})\"\n",
    "    \n",
    "s = Student(\"Emil\", 30)\n",
    "s.add_course(\"Python\")\n",
    "s.add_course(\"OOP\")\n",
    "\n",
    "print(s.count_courses(), s.get_courses())"
   ]
  },
  {
   "cell_type": "markdown",
   "id": "9211c9a5",
   "metadata": {},
   "source": [
    "### Uppgift 20 – Läsbarhet\n",
    "Lägg till `__repr__` i `Student` som visar ett tydligt “debug-format”. Kommentera kort när `__str__` vs `__repr__` syns."
   ]
  },
  {
   "cell_type": "code",
   "execution_count": 39,
   "id": "ed011dc8",
   "metadata": {},
   "outputs": [
    {
     "name": "stdout",
     "output_type": "stream",
     "text": [
      "Student(name=Emil, age=30)\n",
      "Student(name='Emil', age=30)\n"
     ]
    }
   ],
   "source": [
    "class Student:\n",
    "    def __init__(self, name, age):\n",
    "        self.name = name\n",
    "        self.age = age\n",
    "        self._courses = []\n",
    "    \n",
    "    def add_course(self, course_name):\n",
    "        self._courses.append(course_name)\n",
    "    \n",
    "    def count_courses(self):\n",
    "        return len(self._courses)\n",
    "    \n",
    "    def get_courses(self):\n",
    "        return list(self._courses)\n",
    "\n",
    "    def __str__(self):\n",
    "        return f\"Student(name={self.name}, age={self.age})\"\n",
    "    def __repr__(self):\n",
    "        return f\"Student(name={self.name!r}, age={self.age!r})\"\n",
    "    \n",
    "s = Student(\"Emil\", 30)\n",
    "print(str(s))\n",
    "print(repr(s))"
   ]
  },
  {
   "cell_type": "markdown",
   "id": "d8521908",
   "metadata": {},
   "source": [
    "### Uppgift 21 – Sammansättning (Composition)\n",
    "Skapa en klass `Course` med `name` och en **lista av** `Student`-objekt.\n",
    "- Metod `enroll(student)` lägger till studenten,\n",
    "- Metod `top_n(n)` returnerar de första `n` studenterna baserat på namn (alfabetiskt).\n",
    "- Skriv ut en enkel kurslista."
   ]
  },
  {
   "cell_type": "code",
   "execution_count": 42,
   "id": "79ac08e5",
   "metadata": {},
   "outputs": [
    {
     "name": "stdout",
     "output_type": "stream",
     "text": [
      "[Student(name='Bob'), Student(name='Hans')]\n"
     ]
    }
   ],
   "source": [
    "class Student:\n",
    "    def __init__(self, name):\n",
    "        self.name = name\n",
    "    def __repr__(self):\n",
    "        return f\"Student(name={self.name!r})\"\n",
    "\n",
    "class Course:\n",
    "    def __init__(self, name):\n",
    "        self.name = name\n",
    "        self.students = []\n",
    "\n",
    "    def enroll(self, student: Student):\n",
    "        self.students.append(student)\n",
    "\n",
    "    def top_n(self, n):\n",
    "        return sorted(self.students, key=lambda s:s.name)[:n]\n",
    "    \n",
    "c = Course(\"Python\")\n",
    "\n",
    "c.enroll(Student(\"Bob\"))\n",
    "c.enroll(Student(\"Joakim\"))\n",
    "c.enroll(Student(\"Hans\"))\n",
    "c.enroll(Student(\"Therese\"))\n",
    "c.enroll(Student(\"Jeanette\"))\n",
    "\n",
    "print(c.top_n(2))"
   ]
  },
  {
   "cell_type": "markdown",
   "id": "e51348f3",
   "metadata": {},
   "source": [
    "### Uppgift 22 – Arv (Inheritance)\n",
    "Skapa en basklass `Shape` och underklasser som t.ex: `Rectangle(w,h)`, `Circle(r)` och `Triangle(base, height)`.\n",
    "- Skapa minst 4 underklasser.\n",
    "- Alla har en metod `area()` (för cirkel: `3.14159 * r * r`).\n",
    "- Skapa en lista med mixade objekt och skriv ut klassnamn och area för varje."
   ]
  },
  {
   "cell_type": "code",
   "execution_count": null,
   "id": "768e9a02",
   "metadata": {},
   "outputs": [],
   "source": []
  },
  {
   "cell_type": "markdown",
   "id": "11ea4566",
   "metadata": {},
   "source": [
    "### Uppgift 23 – Felsökning\n",
    "Kör och **rätta**:"
   ]
  },
  {
   "cell_type": "code",
   "execution_count": 43,
   "id": "341d275c",
   "metadata": {},
   "outputs": [
    {
     "name": "stdout",
     "output_type": "stream",
     "text": [
      "3 4\n"
     ]
    }
   ],
   "source": [
    "class Box:\n",
    "    def __init__(self, width, height):\n",
    "        self.width = width\n",
    "        self.height = height\n",
    "\n",
    "b = Box(3, 4)\n",
    "print(b.width, b.height)"
   ]
  },
  {
   "cell_type": "markdown",
   "id": "efd88159",
   "metadata": {},
   "source": [
    "### Uppgift 24 – Bibliotekssystem (OOP)\n",
    "Bygg ett litet bibliotekssystem:\n",
    "- Klass `Book(title, author)`\n",
    "- Klass `Member(name)` med metod `borrow(book)` och `return_book(book)`\n",
    "- Klass `Library` som **äger** (sammansättning) listor över `books` och `members`, och erbjuder metoder:\n",
    "  - `add_book`, `add_member`,\n",
    "  - `borrow_book(member, title)`,\n",
    "  - `return_book(member, title)`,\n",
    "  - enkel rapport: vilka böcker är utlånade och till vem.\n",
    "Håll allt i minnet (inga filer i denna uppgift)."
   ]
  },
  {
   "cell_type": "code",
   "execution_count": 55,
   "id": "1a4d57f7",
   "metadata": {},
   "outputs": [
    {
     "name": "stdout",
     "output_type": "stream",
     "text": [
      "Lån ok? True\n",
      "Rapport:  {'Python 101': 'Joakim'}\n",
      "Lån ok? False\n",
      "Rapport:  {'Python 101': 'Joakim'}\n",
      "Lämna:  True\n",
      "Rapport:  {}\n"
     ]
    }
   ],
   "source": [
    "class Book:\n",
    "    def __init__(self, title, author):\n",
    "        self.title = title; self.author = author\n",
    "    def __repr__(self):\n",
    "        return f\"Book({self.title!r}, {self.author!r})\"\n",
    "\n",
    "class Member:\n",
    "    def __init__(self, name):\n",
    "        self.name = name\n",
    "        self.borrowed = []\n",
    "    def borrow(self, book):\n",
    "        self.borrowed.append(book)\n",
    "    def return_book(self, book: Book):\n",
    "        if book in self.borrowed:\n",
    "            self.borrowed.remove(book)\n",
    "\n",
    "class Library:\n",
    "    def __init__(self):\n",
    "        self.books = []\n",
    "        self.members = []\n",
    "        self.loans = {}\n",
    "\n",
    "    def add_book(self, book: Book):\n",
    "        self.books.append(book)\n",
    "\n",
    "    def add_member(self, member: Member):\n",
    "        self.members.append(member)\n",
    "    \n",
    "\n",
    "    def borrow_book(self, member: Member, title):\n",
    "        if member not in self.members:\n",
    "            return False\n",
    "        for b in self.books:\n",
    "            if b.title == title and title not in self.loans:\n",
    "                self.loans[title] = member.name\n",
    "                member.borrow(b)\n",
    "                return True\n",
    "        return False\n",
    "    \n",
    "    def return_book(self, member: Member, title):\n",
    "        if self.loans.get(title) == member.name:\n",
    "            del self.loans[title]\n",
    "            for b in list(member.borrowed):\n",
    "                if b.title == title:\n",
    "                    member.return_book(b)\n",
    "                    break\n",
    "            return True\n",
    "        return False\n",
    "    \n",
    "    def report(self):\n",
    "        return dict(self.loans)\n",
    "    \n",
    "\n",
    "lib = Library()\n",
    "lib.add_book(Book(\"Python 101\", \"Nisse\"))\n",
    "lib.add_book(Book(\"Datastrukturer\", \"Emil\"))\n",
    "\n",
    "m = Member(\"Joakim\")\n",
    "lib.add_member(m)\n",
    "\n",
    "print(\"Lån ok?\", lib.borrow_book(m, \"Python 101\"))\n",
    "print(\"Rapport: \", lib.report())\n",
    "print(\"Lån ok?\", lib.borrow_book(m, \"Python 101\"))\n",
    "print(\"Rapport: \", lib.report())\n",
    "print(\"Lämna: \", lib.return_book(m, \"Python 101\"))\n",
    "print(\"Rapport: \", lib.report())\n"
   ]
  },
  {
   "cell_type": "markdown",
   "id": "a97d868b",
   "metadata": {},
   "source": [
    "## Block E – Större projekt"
   ]
  },
  {
   "cell_type": "markdown",
   "id": "7d98cc8b",
   "metadata": {},
   "source": [
    "### Projekt 1 – Kursregister (CSV + OOP)\n",
    "- Skapa en CSV `enrollments.csv` med kolumner `student,course,points`.\n",
    "- Läs in och bygg upp objekt: en `Course` per kursnamn, lägg till `Student`.\n",
    "- Skriv ut per kurs: antal studenter och medelpoäng (per kurs).\n",
    "- Spara en sammanfattning till `course_summary.json` (lista med `{course, n_students, avg_points}`)."
   ]
  },
  {
   "cell_type": "code",
   "execution_count": null,
   "id": "f10a7839",
   "metadata": {},
   "outputs": [],
   "source": []
  },
  {
   "cell_type": "markdown",
   "id": "b26058fa",
   "metadata": {},
   "source": [
    "### Projekt 2 – Ordfrekvens-pipeline (fil → dict → JSON)\n",
    "- Läs en textfil, normalisera (små bokstäver, ta bort `, . ! ?`), räkna ord i en dictionary.\n",
    "- Skriv ut **topp 10** mest frekventa orden.\n",
    "- Spara hela frekvens-dictionaryn till `word_freq.json`.\n",
    "- (Valfritt) Läs tillbaka JSON och skriv ut ord som förekommer **exakt** `N` gånger (från input)."
   ]
  },
  {
   "cell_type": "code",
   "execution_count": null,
   "id": "65907d17",
   "metadata": {},
   "outputs": [],
   "source": []
  }
 ],
 "metadata": {
  "kernelspec": {
   "display_name": ".venv",
   "language": "python",
   "name": "python3"
  },
  "language_info": {
   "codemirror_mode": {
    "name": "ipython",
    "version": 3
   },
   "file_extension": ".py",
   "mimetype": "text/x-python",
   "name": "python",
   "nbconvert_exporter": "python",
   "pygments_lexer": "ipython3",
   "version": "3.13.7"
  }
 },
 "nbformat": 4,
 "nbformat_minor": 5
}
