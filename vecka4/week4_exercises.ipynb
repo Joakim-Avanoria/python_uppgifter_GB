{
 "cells": [
  {
   "cell_type": "markdown",
   "id": "f85c98b7",
   "metadata": {},
   "source": [
    "# Självstudieövningar – Vecka 4\n",
    "\n",
    "De här övningarna är till för att du ska repetera och befästa det vi har gått igenom under veckan samt introducera några nya begrepp på ett tryggt sätt.\n",
    "\n",
    "Det innebär att vissa av uppgifterna kan du behöva söka efter information själv hur du löser. Här kan du använda Google eller AI om du vill men Python-dokumentationen är din bästa vän när du lär dig.\n",
    "\n",
    "Länk: https://docs.python.org/3.13/\n",
    "\n",
    "Läs först igenom vad som ska göras i respektive uppgift och fyll sedan i kodblocket nedanför, eller gör uppgiften i en separat fil.\n",
    "\n",
    "**Detta lämnas inte in för rättning.** Arbeta i din egen takt, testa dig fram, använd dokumentationen när du kör fast och ta med eventuella frågor till nästa lektionstillfälle."
   ]
  },
  {
   "cell_type": "markdown",
   "id": "67c60071",
   "metadata": {},
   "source": [
    "## (Kör först) Skapa veckans dataset"
   ]
  },
  {
   "cell_type": "code",
   "execution_count": null,
   "id": "37b699b0",
   "metadata": {},
   "outputs": [],
   "source": [
    "import numpy as np\n",
    "import pandas as pd\n",
    "\n",
    "rng = np.random.default_rng(42)  # reproducible\n",
    "n = 300\n",
    "cities = np.array([\"Göteborg\",\"Malmö\",\"Stockholm\",\"Uppsala\"])\n",
    "genders = np.array([\"F\",\"M\"])\n",
    "\n",
    "age = rng.integers(18, 65, size=n)\n",
    "gender = rng.choice(genders, size=n)\n",
    "city = rng.choice(cities, size=n, p=[0.3,0.2,0.4,0.1])\n",
    "steps = rng.normal(8000, 2000, size=n).clip(1000, 20000).astype(int)\n",
    "sleep_hours = rng.normal(7.0, 1.2, size=n).clip(3.5, 11.0)\n",
    "screen_time = rng.normal(4.0, 1.5, size=n).clip(0.5, 12.0)\n",
    "calories = rng.normal(2200, 450, size=n).clip(1000, 4000)\n",
    "\n",
    "# relationer: fler steg → lägre skärmtid, högre kalorier\n",
    "screen_time = np.clip(screen_time - (steps - 8000)/8000 * 0.6, 0.5, 12.0)\n",
    "calories    = np.clip(calories    + (steps - 8000)/8000 * 120, 1000, 4000)\n",
    "\n",
    "df = pd.DataFrame({\n",
    "    \"age\": age,\n",
    "    \"gender\": gender,\n",
    "    \"city\": city,\n",
    "    \"steps\": steps,\n",
    "    \"sleep_hours\": np.round(sleep_hours,2),\n",
    "    \"screen_time\": np.round(screen_time,2),\n",
    "    \"calories\": np.round(calories,0).astype(int)\n",
    "})\n",
    "\n",
    "# ca 2% saknade värden (NaN)\n",
    "mask = rng.random(size=df.shape) < 0.02\n",
    "for (r, c), m in np.ndenumerate(mask):\n",
    "    if m:\n",
    "        df.iat[r, c] = np.nan\n",
    "\n",
    "df.to_csv(\"week4_data.csv\", index=False)\n",
    "print(\"Skapade week4_data.csv med\", len(df), \"rader.\")"
   ]
  },
  {
   "cell_type": "markdown",
   "id": "e6ee8732",
   "metadata": {},
   "source": [
    "### Om datasettet (week4_data.csv)\n",
    "\n",
    "Det här är ett **syntetiskt** dataset från en fiktiv hälso-/livsstilsapp. Varje rad är en person/dag.\n",
    "\n",
    "| Kolumn | Typ | Beskrivning | Ungefärligt intervall |\n",
    "|---|---|---|---|\n",
    "| `age` | int | Ålder | 18–65 |\n",
    "| `gender` | kategori | Kön (F/M) | – |\n",
    "| `city` | kategori | Stad | Göteborg, Malmö, Stockholm, Uppsala |\n",
    "| `steps` | int | Antal steg/dygn | ~1 000–20 000 |\n",
    "| `sleep_hours` | float | Sömn/dygn | ~3.5–11 |\n",
    "| `screen_time` | float | Skärmtid/dygn | ~0.5–12 |\n",
    "| `calories` | int | Energiförbrukning | ~1 000–4 000 |\n",
    "\n",
    "**Noteringar:** Fast seed för reproducerbarhet, ~2% NaN, svag relation: fler `steps` → lägre `screen_time` men högre `calories` i snitt."
   ]
  },
  {
   "cell_type": "markdown",
   "id": "d024edae",
   "metadata": {},
   "source": [
    "### Snabb kontroll\n",
    "- Läs in `week4_data.csv` i `df`.\n",
    "- Visa `df.head()` för att se de första raderna.\n",
    "- Visa datatyper med `df.info()`.\n",
    "- Räkna saknade värden per kolumn med en metod i Pandas.\n",
    "- Skriv en kort kommentar (i en kodkommentar) om vilken kolumn som verkar ha flest NaN."
   ]
  },
  {
   "cell_type": "code",
   "execution_count": null,
   "id": "be7bfd5e",
   "metadata": {},
   "outputs": [],
   "source": [
    "import pandas as pd\n",
    "df = pd.read_csv(\"week4_data.csv\")\n",
    "display(df.head())\n",
    "df.info()\n",
    "\n",
    "na_counts = df.isna().sum()\n",
    "print(\"\\nSaknade värden per kolumn:\")\n",
    "print(na_counts)\n",
    "\n",
    "display(df.describe())"
   ]
  },
  {
   "cell_type": "markdown",
   "id": "2e028b45",
   "metadata": {},
   "source": [
    "## Block A – NumPy"
   ]
  },
  {
   "cell_type": "markdown",
   "id": "0e45fe44",
   "metadata": {},
   "source": [
    "### Uppgift 1 – Array-grunder\n",
    "Skapa en följd av heltal och gör enkla operationer med **vektoriserad** aritmetik.\n",
    "- Skapa en 1D-array med heltal 0..19.\n",
    "- Skapa en ny array med kvadraterna av dessa tal (utan loop).\n",
    "- Plocka ut de tal som är delbara med 3 genom ett boolean-filter."
   ]
  },
  {
   "cell_type": "code",
   "execution_count": null,
   "id": "2b4d9000",
   "metadata": {},
   "outputs": [],
   "source": [
    "arr = np.arange(20)\n",
    "squares = arr * arr\n",
    "div3 = arr[arr % 3 == 0]\n",
    "print(arr); print(squares); print(div3)"
   ]
  },
  {
   "cell_type": "markdown",
   "id": "3e121829",
   "metadata": {},
   "source": [
    "### Uppgift 2 – Slicing & reshaping\n",
    "Träna indexering i 2D.\n",
    "- Skapa en array med tal 1..24.\n",
    "- Forma om till en 4×6-matris.\n",
    "- Plocka ut kolumnerna 2–4 (inklusive) och raderna 2–3 (inklusive) via slicing."
   ]
  },
  {
   "cell_type": "code",
   "execution_count": null,
   "id": "84131b66",
   "metadata": {},
   "outputs": [],
   "source": [
    "A = np.arange(1, 25).reshape(4, 6)\n",
    "sub = A[1:3, 1:4]\n",
    "print(A); print(sub)"
   ]
  },
  {
   "cell_type": "markdown",
   "id": "dc78c998",
   "metadata": {},
   "source": [
    "### Uppgift 3 – Broadcasting\n",
    "Använd broadcasting för att kombinera en matris och en vektor.\n",
    "- Skapa en 3×3-matris med ettor.\n",
    "- Skapa en vektor `[10, 20, 30]`.\n",
    "- Lägg till vektorn **radvis** till matrisen och skriv ut resultatet."
   ]
  },
  {
   "cell_type": "code",
   "execution_count": null,
   "id": "09ea9204",
   "metadata": {},
   "outputs": [],
   "source": [
    "A = np.ones((3,3))\n",
    "v = np.array([10,20,30])\n",
    "print(A + v)"
   ]
  },
  {
   "cell_type": "markdown",
   "id": "39b8ed33",
   "metadata": {},
   "source": [
    "### Uppgift 4 – Felsökning (listor vs arrayer)\n",
    "Koden nedan försöker summera elementvis men använder listor. Kör och rätta.\n",
    "```python\n",
    "import numpy as np\n",
    "a = [1,2,3]\n",
    "b = [4,5,6]\n",
    "print(a + b)      # blir listkonkatenering\n",
    "print(a * b)      # TypeError\n",
    "```\n",
    "**Mål:** gör om till arrayer så att addition/multiplikation blir elementvis."
   ]
  },
  {
   "cell_type": "code",
   "execution_count": null,
   "id": "e69aa452",
   "metadata": {},
   "outputs": [],
   "source": [
    "a = np.array([1,2,3])\n",
    "b = np.array([4,5,6])\n",
    "print(a + b)\n",
    "print(a * b)"
   ]
  },
  {
   "cell_type": "markdown",
   "id": "31c58f79",
   "metadata": {},
   "source": [
    "### Uppgift 5 – Simulera & jämför tärningar\n",
    "Simulera slump och jämför fördelningar.\n",
    "- Skapa två separata simuleringar med `np.random.integers()`. Simulera 1000 kast där utfallet ligger mellan 1 och 6.\n",
    "- Räkna hur många ettor, tvåor, ... sexor i respektive simulering.\n",
    "- Jämför simuleringarna (t.ex. med absolut differens mellan frekvenserna) och skriv ut en liten tabell.\n",
    "*(tips: en funktion i NumPy: `np.bincount` kan räkna förekomster per heltal)*"
   ]
  },
  {
   "cell_type": "code",
   "execution_count": null,
   "id": "7cb305aa",
   "metadata": {},
   "outputs": [],
   "source": [
    "rng = np.random.default_rng(0)\n",
    "s1 = rng.integers(1,7, size=1000)\n",
    "s2 = rng.integers(1,7, size=1000)\n",
    "f1 = np.bincount(s1-1, minlength=6)\n",
    "f2 = np.bincount(s2-1, minlength=6)\n",
    "diff = np.abs(f1 - f2)\n",
    "pd.DataFrame({\"utfall\": np.arange(1,7), \"sim1\": f1, \"sim2\": f2, \"abs_diff\": diff})"
   ]
  },
  {
   "cell_type": "markdown",
   "id": "4aa1e290",
   "metadata": {},
   "source": [
    "## Block B – Pandas (inkl. rensa data)"
   ]
  },
  {
   "cell_type": "markdown",
   "id": "05e4c8d7",
   "metadata": {},
   "source": [
    "### Uppgift 6 – Skapa och inspektera DataFrame\n",
    "- Skapa en DataFrame **manuellt** från en dictionary (3–4 rader), t.ex. namn/ålder/stad.\n",
    "- Visa de första raderna.\n",
    "- Visa datatyper och en numerisk sammanfattning."
   ]
  },
  {
   "cell_type": "code",
   "execution_count": null,
   "id": "50a647ba",
   "metadata": {},
   "outputs": [],
   "source": [
    "df_demo = pd.DataFrame({\"name\":[\"Ada\",\"Bob\",\"Clara\",\"Dan\"],\"age\":[30,25,40,22],\"city\":[\"Göteborg\",\"Malmö\",\"Stockholm\",\"Uppsala\"]})\n",
    "display(df_demo.head())\n",
    "df_demo.info()\n",
    "df_demo.describe(include=\"all\")"
   ]
  },
  {
   "cell_type": "markdown",
   "id": "d251d1b2",
   "metadata": {},
   "source": [
    "### Uppgift 7 – Välja & filtrera\n",
    "- Läs `week4_data.csv`.\n",
    "- Skapa en vy som bara innehåller kolumnerna `age`, `steps`, `city`.\n",
    "- Filtrera fram rader där `steps` är större än 10 000 **och** `city` är Göteborg.\n",
    "- Visa de 5 första raderna av resultatet."
   ]
  },
  {
   "cell_type": "code",
   "execution_count": null,
   "id": "e5106622",
   "metadata": {},
   "outputs": [],
   "source": [
    "df = pd.read_csv(\"week4_data.csv\")\n",
    "demo_df = df[[\"age\",\"steps\",\"city\"]].copy()\n",
    "demo_df[(demo_df[\"steps\"]>10000) & (demo_df[\"city\"]==\"Göteborg\")].head()"
   ]
  },
  {
   "cell_type": "markdown",
   "id": "b9c9f1cc",
   "metadata": {},
   "source": [
    "### Uppgift 8 – Sortera & skapa kolumner\n",
    "- Sortera data fallande på `steps` (störst först).\n",
    "- Skapa en ny kolumn `steps_k` som visar steg i tusental (avrunda till 1 decimal).\n",
    "- Visa de 5 första raderna efter sorteringen."
   ]
  },
  {
   "cell_type": "code",
   "execution_count": null,
   "id": "b8b4155e",
   "metadata": {},
   "outputs": [],
   "source": [
    "df2 = df.sort_values(\"steps\", ascending=False).copy()\n",
    "df2[\"steps_k\"] = (df2[\"steps\"]/1000).round(1)\n",
    "df2.head()"
   ]
  },
  {
   "cell_type": "markdown",
   "id": "85b2c2eb",
   "metadata": {},
   "source": [
    "### Uppgift 9 – Saknade värden\n",
    "- Räkna antalet saknade värden per kolumn.\n",
    "- Fyll saknade i `sleep_hours` med **medianen**.\n",
    "- Fyll saknade i `steps` med **medelvärdet**.\n",
    "- Kontrollera igen att saknade värden minskat för dessa kolumner."
   ]
  },
  {
   "cell_type": "code",
   "execution_count": null,
   "id": "ce6a06f4",
   "metadata": {},
   "outputs": [],
   "source": [
    "df_clean = df.copy()\n",
    "print(\"Före:\\n\", df.isna().sum())\n",
    "df_clean[\"sleep_hours\"] = df_clean[\"sleep_hours\"].fillna(df[\"sleep_hours\"].median())\n",
    "df_clean[\"steps\"] = df_clean[\"steps\"].fillna(df_clean[\"steps\"].mean())\n",
    "print(\"Efter:\\n\", df_clean.isna().sum())"
   ]
  },
  {
   "cell_type": "markdown",
   "id": "c1e565c6",
   "metadata": {},
   "source": [
    "### Uppgift 10 – Dubbletter\n",
    "- Räkna hur många rader som är dubbletter.\n",
    "- Ta bort dubblettrader.\n",
    "- Visa radantal före och efter borttagningen."
   ]
  },
  {
   "cell_type": "code",
   "execution_count": null,
   "id": "b3c1cdaa",
   "metadata": {},
   "outputs": [],
   "source": [
    "before = len(df_clean)\n",
    "dups = df_clean.duplicated().sum()\n",
    "df_clean = df_clean.drop_duplicates()\n",
    "after = len(df_clean)\n",
    "before, dups, after"
   ]
  },
  {
   "cell_type": "markdown",
   "id": "fb7559a3",
   "metadata": {},
   "source": [
    "### Uppgift 11 – Typer & konvertering\n",
    "- Konvertera `steps` till numeriskt på ett **säkert** sätt så att text som inte går att tolka blir saknad (NaN).\n",
    "- Fyll dessa saknade värden i `steps` med kolumnens medelvärde.\n",
    "- Jämför `dtypes` före och efter.\n",
    "*(tips: titta på en Pandas-funktion som börjar `pd.to_num...`)*"
   ]
  },
  {
   "cell_type": "code",
   "execution_count": null,
   "id": "d44f488d",
   "metadata": {},
   "outputs": [],
   "source": [
    "num = pd.to_numeric(df_clean[\"steps\"], errors=\"coerce\")\n",
    "df_clean[\"steps\"] = num.fillna(num.mean())\n",
    "df_clean[\"steps\"].dtype, df_clean[\"steps\"].isna().sum()"
   ]
  },
  {
   "cell_type": "markdown",
   "id": "c513eae8",
   "metadata": {},
   "source": [
    "### Uppgift 12 – Rengöringspipeline\n",
    "Gör en liten pipeline som kopplar ihop allt:\n",
    "- Hantera saknade värden (se uppgift 9/11).\n",
    "- Skapa en ny kolumn `active_ratio = steps / (screen_time * 1000)`.\n",
    "- Filtrera bort orimliga rader (t.ex. `sleep_hours < 4` eller `> 12`).\n",
    "- Gruppera per `city` och skriv ut medelvärden för `steps` och `active_ratio`."
   ]
  },
  {
   "cell_type": "code",
   "execution_count": null,
   "id": "1883e30f",
   "metadata": {},
   "outputs": [],
   "source": [
    "df_clean = df.copy()\n",
    "df_clean[\"sleep_hours\"] = df_clean[\"sleep_hours\"].fillna(df_clean[\"sleep_hours\"].median())\n",
    "df_clean[\"steps\"] = pd.to_numeric(df_clean[\"steps\"], errors=\"coerce\").fillna(df_clean[\"steps\"].mean())\n",
    "df_clean[\"screen_time\"] = pd.to_numeric(df_clean[\"screen_time\"], errors=\"coerce\")\n",
    "df_clean[\"active_ratio\"] = df_clean[\"steps\"] / (df_clean[\"screen_time\"]*1000)\n",
    "df_clean = df_clean[(df_clean[\"sleep_hours\"]>=4) & (df_clean[\"sleep_hours\"]<=12)]\n",
    "res = (df_clean.groupby(\"city\")\n",
    "        .agg(steps_mean=(\"steps\",\"mean\"),\n",
    "             active_mean=(\"active_ratio\",\"mean\"))\n",
    "        .sort_values(\"steps_mean\", ascending=False))\n",
    "res"
   ]
  },
  {
   "cell_type": "markdown",
   "id": "dadf7e7c",
   "metadata": {},
   "source": [
    "## Block C – NumPy + Pandas (deskriptiv statistik)"
   ]
  },
  {
   "cell_type": "markdown",
   "id": "a41e3f2c",
   "metadata": {},
   "source": [
    "### Uppgift 13 – Centrala mått med NumPy\n",
    "- Ta `steps` som **NumPy-array** med `df['steps'].to_numpy()`.\n",
    "- Ignorera saknade värden innan du räknar.\n",
    "- Räkna ut **medelvärde**, **median** och **standardavvikelse**.  \n",
    "*(tips: `np.mean`, `np.median`, `np.std`)*"
   ]
  },
  {
   "cell_type": "code",
   "execution_count": null,
   "id": "a7cfa19a",
   "metadata": {},
   "outputs": [],
   "source": [
    "arr = pd.read_csv(\"week4_data.csv\")[\"steps\"].to_numpy(dtype=\"float64\")\n",
    "arr = arr[~np.isnan(arr)]\n",
    "np.mean(arr), np.median(arr), np.std(arr, ddof=0)"
   ]
  },
  {
   "cell_type": "markdown",
   "id": "02e31949",
   "metadata": {},
   "source": [
    "### Uppgift 14 – Fem-tals-sammanfattning\n",
    "För `sleep_hours`:\n",
    "- Räkna fram min, Q1 (25%), median, Q3 (75%), max.\n",
    "- Ignorera saknade värden först.  \n",
    "*(tips: det finns en NumPy-funktion som heter `np.percentile`)*"
   ]
  },
  {
   "cell_type": "code",
   "execution_count": null,
   "id": "d16b8a47",
   "metadata": {},
   "outputs": [],
   "source": [
    "x = df[\"sleep_hours\"].to_numpy(dtype=\"float64\")\n",
    "x = x[~np.isnan(x)]\n",
    "q1 = np.percentile(x,25)\n",
    "med = np.median(x)\n",
    "q3 = np.percentile(x,75)\n",
    "{\"min\": float(np.min(x)), \"Q1\": float(q1), \"med\": float(med), \"Q3\": float(q3), \"max\": float(np.max(x))}"
   ]
  },
  {
   "cell_type": "markdown",
   "id": "5c02575a",
   "metadata": {},
   "source": [
    "### Uppgift 15 – IQR och outliers\n",
    "- Räkna IQR = Q3 − Q1 för `screen_time`.\n",
    "- Sätt gränserna `low = Q1 - 1.5*IQR` och `high = Q3 + 1.5*IQR`.\n",
    "- Skapa en DataFrame `outliers_df` med de rader som ligger utanför intervallet och skriv hur många de är."
   ]
  },
  {
   "cell_type": "code",
   "execution_count": null,
   "id": "34e7d30c",
   "metadata": {},
   "outputs": [],
   "source": [
    "st = df[\"screen_time\"].to_numpy(dtype=\"float64\")\n",
    "st = st[~np.isnan(st)]\n",
    "q1,q3 = np.percentile(st,[25,75])\n",
    "iqr = q3-q1\n",
    "low, high = q1-1.5*iqr, q3+1.5*iqr\n",
    "outliers_df = df[(df[\"screen_time\"]<low) | (df[\"screen_time\"]>high)]\n",
    "len(outliers_df), outliers_df.head()"
   ]
  },
  {
   "cell_type": "markdown",
   "id": "27af5889",
   "metadata": {},
   "source": [
    "### Uppgift 16 – Felsökning (typkonvertering)\n",
    "Koden försöker räkna medelvärde på blandade typer. Kör och rätta.\n",
    "```python\n",
    "import numpy as np\n",
    "vals = [\"3\", \"5\", \"7\", None]\n",
    "print(np.mean(vals))  # TypeError\n",
    "```\n",
    "**Mål:** gör om värdena till tal och ignorera ogiltiga poster."
   ]
  },
  {
   "cell_type": "code",
   "execution_count": null,
   "id": "2f27307c",
   "metadata": {},
   "outputs": [],
   "source": [
    "vals = [\"3\", \"5\", \"7\", None]\n",
    "nums = []\n",
    "for v in vals:\n",
    "    try:\n",
    "        nums.append(float(v))\n",
    "    except (TypeError, ValueError):\n",
    "        pass\n",
    "np.mean(nums)"
   ]
  },
  {
   "cell_type": "markdown",
   "id": "13f9d208",
   "metadata": {},
   "source": [
    "### Uppgift 17 – Sammanfattning per stad\n",
    "- Skapa en tabell/gruppsammanställning med `city` som index och kolumnerna:\n",
    "  - `steps_mean` (medel), `sleep_median` (median), `screen_std` (standardavvikelse).\n",
    "- Sortera resultatet fallande på `steps_mean`.\n",
    "*(tips: `groupby(...).agg({...})` är en väg)*"
   ]
  },
  {
   "cell_type": "code",
   "execution_count": null,
   "id": "74246abb",
   "metadata": {},
   "outputs": [],
   "source": [
    "res = (df.groupby(\"city\")\n",
    "         .agg(steps_mean=(\"steps\",\"mean\"),\n",
    "              sleep_median=(\"sleep_hours\",\"median\"),\n",
    "              screen_std=(\"screen_time\",\"std\"))\n",
    "         .sort_values(\"steps_mean\", ascending=False))\n",
    "res"
   ]
  },
  {
   "cell_type": "markdown",
   "id": "f926ca05",
   "metadata": {},
   "source": [
    "## Block D – Matplotlib"
   ]
  },
  {
   "cell_type": "markdown",
   "id": "a1f204b9",
   "metadata": {},
   "source": [
    "### Uppgift 18 – Stapeldiagram från frekvenser\n",
    "- Räkna frekvens av `city` med `value_counts()`.\n",
    "- Rita ett **stapeldiagram**.\n",
    "- Lägg till titel, axelrubriker och rutnät för att göra grafen lätt att läsa.\n",
    "*(tips: du kan antingen använda `DataFrame.plot(...)` eller `matplotlib.pyplot`)*"
   ]
  },
  {
   "cell_type": "code",
   "execution_count": null,
   "id": "7861c059",
   "metadata": {},
   "outputs": [],
   "source": [
    "import matplotlib.pyplot as plt\n",
    "ax = df[\"city\"].value_counts().plot(kind=\"bar\")\n",
    "ax.set_title(\"Frekvens per stad\")\n",
    "ax.set_xlabel(\"Stad\")\n",
    "ax.set_ylabel(\"Antal\")\n",
    "ax.grid(True, axis=\"y\")\n",
    "plt.tight_layout()\n",
    "plt.show()"
   ]
  },
  {
   "cell_type": "markdown",
   "id": "cca09ff9",
   "metadata": {},
   "source": [
    "### Uppgift 19 – Fördelning (histogram)\n",
    "- Rita ett **histogram** av `steps` (välj ett rimligt antal bins, t.ex. 20).\n",
    "- Lägg till titel/axlar och ett rutnät.\n",
    "- Skriv en kort kommentar i kod (t.ex. om fördelningen ser skev ut)."
   ]
  },
  {
   "cell_type": "code",
   "execution_count": null,
   "id": "5706798b",
   "metadata": {},
   "outputs": [],
   "source": [
    "ax = df[\"steps\"].dropna().plot(kind=\"hist\", bins=20)\n",
    "ax.set_title(\"Fördelning av steps\")\n",
    "ax.set_xlabel(\"Steps\")\n",
    "ax.set_ylabel(\"Frekvens\")\n",
    "ax.grid(True, axis=\"y\")\n",
    "plt.tight_layout()\n",
    "plt.show()"
   ]
  },
  {
   "cell_type": "markdown",
   "id": "534ee57c",
   "metadata": {},
   "source": [
    "### Uppgift 20 – Samband (scatter)\n",
    "- Skapa en **scatterplot** med `steps` på x-axeln och `calories` på y-axeln.\n",
    "- Lägg till titel, axelrubriker och rutnät.\n",
    "- Skriv en kort kommentar om du tycker sambandet verkar positivt/negativt/svagt."
   ]
  },
  {
   "cell_type": "code",
   "execution_count": null,
   "id": "254c504c",
   "metadata": {},
   "outputs": [],
   "source": [
    "ax = df_clean.plot.scatter(x=\"steps\", y=\"calories\")\n",
    "ax.set_title(\"Steps vs Calories\")\n",
    "ax.grid(True)\n",
    "plt.tight_layout()\n",
    "plt.show()"
   ]
  },
  {
   "cell_type": "markdown",
   "id": "5f292021",
   "metadata": {},
   "source": [
    "### Uppgift 21 – Felsökning (plot)\n",
    "Koden försöker rita ett histogram på en icke-existerande kolumn. Kör och rätta.\n",
    "```python\n",
    "import pandas as pd\n",
    "import matplotlib.pyplot as plt\n",
    "df = pd.read_csv(\"week4_data.csv\")\n",
    "df[\"step\"].plot(kind=\"hist\", bins=10)\n",
    "plt.show()\n",
    "```\n",
    "**Mål:** använd korrekt kolumn och visa grafen."
   ]
  },
  {
   "cell_type": "code",
   "execution_count": null,
   "id": "8308b387",
   "metadata": {},
   "outputs": [],
   "source": [
    "import pandas as pd, matplotlib.pyplot as plt\n",
    "df = pd.read_csv(\"week4_data.csv\")\n",
    "ax = df[\"steps\"].plot(kind=\"hist\", bins=10)\n",
    "ax.set_title(\"Histogram av steps\")\n",
    "plt.show()"
   ]
  },
  {
   "cell_type": "markdown",
   "id": "2ced648d",
   "metadata": {},
   "source": [
    "### Uppgift 22 – Mini-dashboard\n",
    "Skapa tre figurer:\n",
    "1. Histogram av `sleep_hours`,\n",
    "2. Stapeldiagram med frekvenser för `gender`,\n",
    "3. Scatter `steps` vs `screen_time`.\n",
    "\n",
    "Lägg på titlar/axlar/rutnät och spara **en** figur till fil (valfritt filnamn)."
   ]
  },
  {
   "cell_type": "code",
   "execution_count": null,
   "id": "715c73d6",
   "metadata": {},
   "outputs": [],
   "source": [
    "fig, axes = plt.subplots(2, 2, figsize=(10, 6))\n",
    "axes[0,0].hist(df_clean[\"sleep_hours\"], bins=20)\n",
    "axes[0,0].set_title(\"Sleep hours\")\n",
    "axes[0,0].set_xlabel(\"hours\")\n",
    "axes[0,0].grid(True, axis=\"y\")\n",
    "\n",
    "axes[0,1].bar(df_clean[\"gender\"].value_counts().index, df_clean[\"gender\"].value_counts().values)\n",
    "axes[0,1].set_title(\"Gender frequences\")\n",
    "axes[0,1].set_xlabel(\"gender\")\n",
    "axes[0,1].set_ylabel(\"antal\")\n",
    "axes[0,1].grid(True, axis=\"y\")\n",
    "\n",
    "axes[1,0].scatter(df_clean[\"steps\"], df_clean[\"screen_time\"])\n",
    "axes[1,0].set_title(\"Steps vs Screen time\")\n",
    "axes[1,0].set_xlabel(\"steps\")\n",
    "axes[1,0].set_ylabel(\"screen time\")\n",
    "axes[1,0].grid(True)\n",
    "\n",
    "axes[1,1].axis(\"off\")\n",
    "\n",
    "plt.tight_layout()\n",
    "plt.savefig(\"dashboard.png\", dpi=300)"
   ]
  }
 ],
 "metadata": {
  "kernelspec": {
   "display_name": ".venv",
   "language": "python",
   "name": "python3"
  },
  "language_info": {
   "codemirror_mode": {
    "name": "ipython",
    "version": 3
   },
   "file_extension": ".py",
   "mimetype": "text/x-python",
   "name": "python",
   "nbconvert_exporter": "python",
   "pygments_lexer": "ipython3",
   "version": "3.13.7"
  }
 },
 "nbformat": 4,
 "nbformat_minor": 5
}
